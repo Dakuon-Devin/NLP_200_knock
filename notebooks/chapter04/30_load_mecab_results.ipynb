{
 "cells": [
  {
   "cell_type": "markdown",
   "id": "05df2fe3",
   "metadata": {},
   "source": [
    "# 問題30: 形態素解析結果の読み込み\n",
    "\n",
    "夏目漱石の小説『吾輩は猫である』の文章（neko.txt）をMeCabを使って形態素解析し，その結果をneko.txt.mecabというファイルに保存せよ．このファイルを読み込み，各形態素を表層形（surface），基本形（base），品詞（pos），品詞細分類1（pos1）をキーとするマッピング型に格納し，1文を形態素（マッピング型）のリストとして表現せよ．第4章の残りの問題では，ここで作ったプログラムを活用せよ．"
   ]
  },
  {
   "cell_type": "code",
   "execution_count": null,
   "id": "5d1de6b5",
   "metadata": {},
   "outputs": [],
   "source": [
    "# MeCabの出力結果を読み込む関数\n",
    "def load_mecab_result(file_path):\n",
    "    \"\"\"\n",
    "    MeCabの解析結果ファイルを読み込み、各形態素を辞書のリストとして返す関数\n",
    "    \n",
    "    Args:\n",
    "        file_path (str): MeCab出力ファイルのパス\n",
    "        \n",
    "    Returns:\n",
    "        list: 文のリスト。各文は形態素（辞書）のリスト\n",
    "    \"\"\"\n",
    "    sentences = []\n",
    "    current_sentence = []\n",
    "    \n",
    "    with open(file_path, 'r', encoding='utf-8') as f:\n",
    "        for line in f:\n",
    "            # EOSは文の区切り\n",
    "            if line == 'EOS\\n':\n",
    "                if current_sentence:\n",
    "                    sentences.append(current_sentence)\n",
    "                    current_sentence = []\n",
    "                continue\n",
    "                \n",
    "            # 空行をスキップ\n",
    "            if line == '\\n':\n",
    "                continue\n",
    "                \n",
    "            # タブで分割して表層形とそれ以外の情報に分ける\n",
    "            try:\n",
    "                surface, info = line.split('\\t')\n",
    "                \n",
    "                # カンマで分割して品詞情報などを取得\n",
    "                info_items = info.split(',')\n",
    "                \n",
    "                # 形態素情報を辞書として格納\n",
    "                morpheme = {\n",
    "                    'surface': surface,\n",
    "                    'base': info_items[6],\n",
    "                    'pos': info_items[0],\n",
    "                    'pos1': info_items[1]\n",
    "                }\n",
    "                \n",
    "                current_sentence.append(morpheme)\n",
    "            except:\n",
    "                # 不正な形式の行をスキップ\n",
    "                continue\n",
    "    \n",
    "    # 最後の文が追加されていない場合に追加\n",
    "    if current_sentence:\n",
    "        sentences.append(current_sentence)\n",
    "    \n",
    "    return sentences"
   ]
  },
  {
   "cell_type": "code",
   "execution_count": null,
   "id": "7404bcba",
   "metadata": {},
   "outputs": [],
   "source": [
    "# 形態素解析結果の読み込み\n",
    "file_path = '../../data/neko.txt.mecab'\n",
    "sentences = load_mecab_result(file_path)\n",
    "\n",
    "# 最初の文を表示\n",
    "print(f\"総文数: {len(sentences)}\")\n",
    "print(\"\\n最初の文の形態素:\")\n",
    "for morpheme in sentences[0]:\n",
    "    print(morpheme)"
   ]
  },
  {
   "cell_type": "markdown",
   "id": "1b6f3350",
   "metadata": {},
   "source": [
    "## 解説\n",
    "\n",
    "この問題では、MeCabによる形態素解析結果を読み込み、各形態素を辞書型に格納する処理を実装しました。\n",
    "\n",
    "### MeCabの出力形式\n",
    "MeCabの出力は以下の形式になっています：\n",
    "```\n",
    "表層形\\t品詞,品詞細分類1,品詞細分類2,品詞細分類3,活用型,活用形,原形,読み,発音\n",
    "```\n",
    "\n",
    "### 実装のポイント\n",
    "1. **文の区切り**: MeCabの出力では、文の区切りは「EOS」という特殊なマーカーで示されています。これを利用して、1文ごとに形態素のリストを作成しています。\n",
    "\n",
    "2. **形態素情報の抽出**: 各行をタブで分割して表層形と品詞情報に分け、さらに品詞情報をカンマで分割して必要な情報を取得しています。\n",
    "\n",
    "3. **辞書型への格納**: 各形態素の情報を、指定されたキー（surface, base, pos, pos1）を持つ辞書型に格納しています。\n",
    "\n",
    "4. **エラー処理**: 不正な形式の行があった場合にスキップする例外処理を追加しています。\n",
    "\n",
    "この関数は、第4章の残りの問題でも活用されます。"
   ]
  }
 ],
 "metadata": {
  "kernelspec": {
   "display_name": "Python 3",
   "language": "python",
   "name": "python3"
  },
  "language_info": {
   "codemirror_mode": {
    "name": "ipython",
    "version": 3
   },
   "file_extension": ".py",
   "mimetype": "text/x-python",
   "name": "python",
   "nbconvert_exporter": "python",
   "pygments_lexer": "ipython3",
   "version": "3.12.0"
  }
 },
 "nbformat": 4,
 "nbformat_minor": 5
}
