{
 "cells": [
  {
   "cell_type": "markdown",
   "id": "6aa4aa5b",
   "metadata": {},
   "source": [
    "# 11. タブをスペースに置換\n",
    "\n",
    "タブ1文字につきスペース1文字に置換せよ．確認にはsedコマンド，trコマンド，もしくはexpandコマンドを用いよ．"
   ]
  },
  {
   "cell_type": "code",
   "execution_count": null,
   "id": "10c0a46f",
   "metadata": {},
   "outputs": [],
   "source": [
    "# 問題11: タブをスペースに置換\n",
    "\n",
    "# Pythonでタブをスペースに置換\n",
    "def tab_to_space(file_path, output_path):\n",
    "    \"\"\"タブをスペースに置換する関数\n",
    "    \n",
    "    Args:\n",
    "        file_path: 入力ファイルのパス\n",
    "        output_path: 出力ファイルのパス\n",
    "        \n",
    "    Returns:\n",
    "        置換した行数\n",
    "    \"\"\"\n",
    "    count = 0\n",
    "    with open(file_path, 'r', encoding='utf-8') as f_in, \\\n",
    "         open(output_path, 'w', encoding='utf-8') as f_out:\n",
    "        for line in f_in:\n",
    "            if '\\t' in line:\n",
    "                count += 1\n",
    "            # タブをスペースに置換\n",
    "            new_line = line.replace('\\t', ' ')\n",
    "            f_out.write(new_line)\n",
    "    return count\n",
    "\n",
    "# サンプルファイルのパス（実際の環境に合わせて変更してください）\n",
    "file_path = '../data/popular-names.txt'\n",
    "output_path = '../data/popular-names-space.txt'\n",
    "\n",
    "# タブをスペースに置換\n",
    "try:\n",
    "    replaced_lines = tab_to_space(file_path, output_path)\n",
    "    print(f\"Pythonで置換: {replaced_lines}行でタブが置換されました\")\n",
    "except FileNotFoundError:\n",
    "    print(f\"ファイル {file_path} が見つかりません。\")\n",
    "    print(\"このノートブックを実行する前に、必要なデータファイルをダウンロードしてください。\")\n",
    "    print(\"データファイルは https://nlp100.github.io/data/popular-names.txt からダウンロードできます。\")"
   ]
  },
  {
   "cell_type": "code",
   "execution_count": null,
   "id": "bf4b1a92",
   "metadata": {},
   "outputs": [],
   "source": [
    "# UNIXコマンドでの確認（Jupyter上で実行）\n",
    "# sedコマンドを使用\n",
    "!sed \"s/\\t/ /g\" ../data/popular-names.txt > /tmp/sed_result.txt 2>/dev/null && echo \"sedコマンドで置換完了\" || echo \"sedコマンドでの置換に失敗しました\""
   ]
  },
  {
   "cell_type": "code",
   "execution_count": null,
   "id": "ec9810bf",
   "metadata": {},
   "outputs": [],
   "source": [
    "# trコマンドを使用\n",
    "!tr \"\\t\" \" \" < ../data/popular-names.txt > /tmp/tr_result.txt 2>/dev/null && echo \"trコマンドで置換完了\" || echo \"trコマンドでの置換に失敗しました\""
   ]
  },
  {
   "cell_type": "code",
   "execution_count": null,
   "id": "f2e88de5",
   "metadata": {},
   "outputs": [],
   "source": [
    "# expandコマンドを使用\n",
    "!expand -t 1 ../data/popular-names.txt > /tmp/expand_result.txt 2>/dev/null && echo \"expandコマンドで置換完了\" || echo \"expandコマンドでの置換に失敗しました\""
   ]
  },
  {
   "cell_type": "markdown",
   "id": "7f2c3738",
   "metadata": {},
   "source": [
    "## 解説\n",
    "\n",
    "この問題では、ファイル内のタブ文字をスペース文字に置換する方法を学びます。\n",
    "\n",
    "### Pythonでの実装\n",
    "\n",
    "Pythonでタブをスペースに置換するには、`replace()`メソッドを使用します。この実装では、入力ファイルを1行ずつ読み込み、タブ文字（`\\t`）をスペース文字（` `）に置換して、新しいファイルに書き込んでいます。\n",
    "\n",
    "### UNIXコマンドでの確認\n",
    "\n",
    "UNIXコマンドでは、以下の方法でタブをスペースに置換できます：\n",
    "\n",
    "1. **sedコマンド**：\n",
    "   ```bash\n",
    "   sed \"s/\\t/ /g\" input.txt > output.txt\n",
    "   ```\n",
    "   `s/\\t/ /g`は、タブ文字をスペースに置換するための置換パターンです。\n",
    "\n",
    "2. **trコマンド**：\n",
    "   ```bash\n",
    "   tr \"\\t\" \" \" < input.txt > output.txt\n",
    "   ```\n",
    "   `tr`コマンドは、文字の変換（translate）を行います。\n",
    "\n",
    "3. **expandコマンド**：\n",
    "   ```bash\n",
    "   expand -t 1 input.txt > output.txt\n",
    "   ```\n",
    "   `expand`コマンドは、タブをスペースに展開するためのコマンドです。`-t 1`オプションは、タブ1文字をスペース1文字に展開することを指定します。\n",
    "\n",
    "### 注意点\n",
    "\n",
    "- ファイルが存在しない場合のエラー処理を行っています。\n",
    "- 大きなファイルでも効率的に処理できるように、ファイルを一度に全て読み込むのではなく、1行ずつ処理しています。\n",
    "- 文字エンコーディングを指定して、異なる言語や文字セットのファイルも正しく処理できるようにしています。"
   ]
  }
 ],
 "metadata": {},
 "nbformat": 4,
 "nbformat_minor": 5
}