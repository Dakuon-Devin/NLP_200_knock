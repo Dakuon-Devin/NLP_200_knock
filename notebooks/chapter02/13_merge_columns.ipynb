{
 "cells": [
  {
   "cell_type": "markdown",
   "id": "a7239677",
   "metadata": {},
   "source": [
    "# 13. col1.txtとcol2.txtをマージ\n",
    "\n",
    "col1.txtとcol2.txtを結合し，元のファイルの1列目と2列目をタブ区切りで並べたテキストファイルを作成せよ．確認にはpasteコマンドを用いよ．"
   ]
  },
  {
   "cell_type": "code",
   "execution_count": null,
   "id": "2e39282e",
   "metadata": {},
   "outputs": [],
   "source": [
    "# 問題13: col1.txtとcol2.txtをマージ\n",
    "\n",
    "# Pythonで列をマージ\n",
    "def merge_columns(col1_path, col2_path, output_path):\n",
    "    \"\"\"2つのファイルの内容をマージしてタブ区切りのファイルを作成する関数\n",
    "    \n",
    "    Args:\n",
    "        col1_path: 1列目のファイルのパス\n",
    "        col2_path: 2列目のファイルのパス\n",
    "        output_path: 出力ファイルのパス\n",
    "        \n",
    "    Returns:\n",
    "        処理した行数\n",
    "    \"\"\"\n",
    "    count = 0\n",
    "    with open(col1_path, 'r', encoding='utf-8') as f_col1, \\\n",
    "         open(col2_path, 'r', encoding='utf-8') as f_col2, \\\n",
    "         open(output_path, 'w', encoding='utf-8') as f_out:\n",
    "        for line1, line2 in zip(f_col1, f_col2):\n",
    "            count += 1\n",
    "            # 改行文字を削除して結合\n",
    "            merged_line = line1.strip() + '\\t' + line2.strip() + '\\n'\n",
    "            f_out.write(merged_line)\n",
    "    return count\n",
    "\n",
    "# サンプルファイルのパス（実際の環境に合わせて変更してください）\n",
    "col1_path = '../data/col1.txt'\n",
    "col2_path = '../data/col2.txt'\n",
    "output_path = '../data/merged.txt'\n",
    "\n",
    "# 列をマージ\n",
    "try:\n",
    "    processed_lines = merge_columns(col1_path, col2_path, output_path)\n",
    "    print(f\"Pythonで処理: {processed_lines}行をマージしました\")\n",
    "    print(f\"マージ結果を {output_path} に保存しました\")\n",
    "except FileNotFoundError as e:\n",
    "    print(f\"ファイルが見つかりません: {e}\")\n",
    "    print(\"このノートブックを実行する前に、問題12を実行して必要なファイルを作成してください。\")"
   ]
  },
  {
   "cell_type": "code",
   "execution_count": null,
   "id": "656be2aa",
   "metadata": {},
   "outputs": [],
   "source": [
    "# UNIXコマンドでの確認（Jupyter上で実行）\n",
    "# pasteコマンドを使用して列をマージ\n",
    "!paste ../data/col1.txt ../data/col2.txt > /tmp/unix_merged.txt 2>/dev/null && echo \"pasteコマンドでマージ完了\" || echo \"pasteコマンドでのマージに失敗しました\""
   ]
  },
  {
   "cell_type": "code",
   "execution_count": null,
   "id": "e2178b5d",
   "metadata": {},
   "outputs": [],
   "source": [
    "# 結果の確認（最初の5行を表示）\n",
    "print(\"Pythonでマージした結果（最初の5行）:\")\n",
    "!head -n 5 ../data/merged.txt 2>/dev/null || echo \"ファイルが見つかりません\"\n",
    "\n",
    "print(\"\\nUNIXコマンドでマージした結果（最初の5行）:\")\n",
    "!head -n 5 /tmp/unix_merged.txt 2>/dev/null || echo \"ファイルが見つかりません\""
   ]
  },
  {
   "cell_type": "markdown",
   "id": "00191729",
   "metadata": {},
   "source": [
    "## 解説\n",
    "\n",
    "この問題では、2つのファイルの内容を1行ずつ読み込み、それらをタブ区切りで結合して新しいファイルに書き込む方法を学びます。\n",
    "\n",
    "### Pythonでの実装\n",
    "\n",
    "Pythonで2つのファイルをマージするには、以下の手順を実行します：\n",
    "\n",
    "1. 2つの入力ファイルと1つの出力ファイルを開きます。\n",
    "2. `zip`関数を使用して、2つのファイルから1行ずつ同時に読み込みます。\n",
    "3. 各行の末尾の改行文字を削除し、タブ文字で結合して新しい行を作成します。\n",
    "4. 結合した行を出力ファイルに書き込みます。\n",
    "\n",
    "### UNIXコマンドでの確認\n",
    "\n",
    "UNIXの`paste`コマンドを使用して、複数のファイルを列方向に結合できます：\n",
    "\n",
    "```bash\n",
    "paste col1.txt col2.txt > merged.txt\n",
    "```\n",
    "\n",
    "`paste`コマンドは、デフォルトでタブ区切りを使用して、指定された複数のファイルの各行を結合します。\n",
    "\n",
    "### 注意点\n",
    "\n",
    "- ファイルが存在しない場合のエラー処理を行っています。\n",
    "- `zip`関数は、最も短いイテラブルが終了した時点で停止するため、2つのファイルの行数が異なる場合は、短い方に合わせて処理されます。\n",
    "- 文字エンコーディングを指定して、異なる言語や文字セットのファイルも正しく処理できるようにしています。"
   ]
  }
 ],
 "metadata": {},
 "nbformat": 4,
 "nbformat_minor": 5
}