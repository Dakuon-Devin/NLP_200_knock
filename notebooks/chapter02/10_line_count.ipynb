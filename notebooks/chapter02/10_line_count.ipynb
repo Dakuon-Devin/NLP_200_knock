{
 "cells": [
  {
   "cell_type": "markdown",
   "id": "dd4478be",
   "metadata": {},
   "source": [
    "# 10. 行数のカウント\n",
    "\n",
    "行数をカウントせよ．確認にはwcコマンドを用いよ．"
   ]
  },
  {
   "cell_type": "code",
   "execution_count": null,
   "id": "c08638cc",
   "metadata": {},
   "outputs": [],
   "source": [
    "# 問題10: 行数のカウント\n",
    "\n",
    "# Pythonで行数をカウント\n",
    "def count_lines(file_path):\n",
    "    \"\"\"ファイルの行数をカウントする関数\n",
    "    \n",
    "    Args:\n",
    "        file_path: 対象ファイルのパス\n",
    "        \n",
    "    Returns:\n",
    "        行数\n",
    "    \"\"\"\n",
    "    with open(file_path, 'r', encoding='utf-8') as f:\n",
    "        return sum(1 for _ in f)\n",
    "\n",
    "# サンプルファイルのパス（実際の環境に合わせて変更してください）\n",
    "file_path = '../data/popular-names.txt'\n",
    "\n",
    "# 行数をカウント\n",
    "try:\n",
    "    line_count = count_lines(file_path)\n",
    "    print(f\"Pythonでカウント: {line_count}行\")\n",
    "except FileNotFoundError:\n",
    "    print(f\"ファイル {file_path} が見つかりません。\")\n",
    "    print(\"このノートブックを実行する前に、必要なデータファイルをダウンロードしてください。\")\n",
    "    print(\"データファイルは https://nlp100.github.io/data/popular-names.txt からダウンロードできます。\")"
   ]
  },
  {
   "cell_type": "code",
   "execution_count": null,
   "id": "c7a4ddb7",
   "metadata": {},
   "outputs": [],
   "source": [
    "# UNIXコマンドでの確認（Jupyter上で実行）\n",
    "!wc -l ../data/popular-names.txt 2>/dev/null || echo \"ファイルが見つかりません。\""
   ]
  },
  {
   "cell_type": "markdown",
   "id": "22999ce9",
   "metadata": {},
   "source": [
    "## 解説\n",
    "\n",
    "この問題では、ファイルの行数をカウントする方法を学びます。\n",
    "\n",
    "### Pythonでの実装\n",
    "\n",
    "Pythonでファイルの行数をカウントするには、ファイルを開いて各行を読み込み、カウントする方法があります。上記の実装では、ファイルを開いてジェネレータ式を使用して効率的に行数をカウントしています。\n",
    "\n",
    "### UNIXコマンドでの確認\n",
    "\n",
    "UNIXコマンドの`wc`（word count）を使用して行数を確認できます。`-l`オプションを指定すると、行数のみをカウントします。\n",
    "\n",
    "```bash\n",
    "wc -l ファイル名\n",
    "```\n",
    "\n",
    "### 注意点\n",
    "\n",
    "- ファイルが存在しない場合のエラー処理を行っています。\n",
    "- 大きなファイルでも効率的に処理できるように、ファイルを一度に全て読み込むのではなく、1行ずつ処理しています。\n",
    "- 文字エンコーディングを指定して、異なる言語や文字セットのファイルも正しく処理できるようにしています。"
   ]
  }
 ],
 "metadata": {},
 "nbformat": 4,
 "nbformat_minor": 5
}