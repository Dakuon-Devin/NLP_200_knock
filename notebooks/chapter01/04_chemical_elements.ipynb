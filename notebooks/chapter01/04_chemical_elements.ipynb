{
 "cells": [
  {
   "cell_type": "markdown",
   "id": "5881bc80",
   "metadata": {},
   "source": [
    "# 04. 元素記号\n",
    "\n",
    "\"Hi He Lied Because Boron Could Not Oxidize Fluorine. New Nations Might Also Sign Peace Security Clause. Arthur King Can.\"という文を単語に分解し，1, 5, 6, 7, 8, 9, 15, 16, 19番目の単語は先頭の1文字，それ以外の単語は先頭の2文字を取り出し，取り出した文字列から単語の位置（先頭から何番目の単語か）への連想配列（辞書型もしくはマップ型）を作成せよ．"
   ]
  },
  {
   "cell_type": "code",
   "execution_count": null,
   "id": "84cb48e8",
   "metadata": {},
   "outputs": [],
   "source": [
    "# 問題04: 元素記号\n",
    "\n",
    "# 与えられた文\n",
    "text = \"Hi He Lied Because Boron Could Not Oxidize Fluorine. New Nations Might Also Sign Peace Security Clause. Arthur King Can.\"\n",
    "\n",
    "# 句読点を除去し、単語に分割\n",
    "import re\n",
    "words = re.sub(r\"[,.]\", \"\", text).split()\n",
    "\n",
    "# 1文字を取り出す単語の位置（1から始まるインデックス）\n",
    "one_char_positions = [1, 5, 6, 7, 8, 9, 15, 16, 19]\n",
    "\n",
    "# 単語の位置（1始まり）から元素記号への連想配列を作成\n",
    "element_dict = {}\n",
    "\n",
    "for i, word in enumerate(words, 1):  # 1始まりのインデックス\n",
    "    if i in one_char_positions:\n",
    "        element_dict[word[:1]] = i  # 先頭1文字を取得\n",
    "    else:\n",
    "        element_dict[word[:2]] = i  # 先頭2文字を取得\n",
    "\n",
    "# 結果を表示\n",
    "print(f\"元の文: {text}\")\n",
    "print(f\"単語リスト: {words}\")\n",
    "print(f\"元素記号と単語位置の対応: {element_dict}\")"
   ]
  },
  {
   "cell_type": "markdown",
   "id": "24fb0c4f",
   "metadata": {},
   "source": [
    "## 解説\n",
    "\n",
    "この問題では、与えられた文を単語に分解し、特定の位置の単語からは先頭1文字、それ以外の単語からは先頭2文字を取り出して、それらの文字と単語の位置を対応付ける辞書を作成します。\n",
    "\n",
    "1. まず、正規表現を使用してカンマとピリオドを除去し、文を単語に分割します。\n",
    "2. 1, 5, 6, 7, 8, 9, 15, 16, 19番目の単語は先頭の1文字を取り出します。\n",
    "3. それ以外の単語は先頭の2文字を取り出します。\n",
    "4. 取り出した文字と単語の位置（1始まり）を対応付ける辞書を作成します。\n",
    "\n",
    "結果として得られる辞書には、元素記号とその位置が格納されます。例えば、\"H\"（水素）は1番目の単語\"Hi\"から、\"He\"（ヘリウム）は2番目の単語\"He\"から取り出されます。\n",
    "\n",
    "実際に、この文から抽出される文字列は周期表の元素記号と対応しており、その位置は元素の原子番号と一致します。"
   ]
  }
 ],
 "metadata": {},
 "nbformat": 4,
 "nbformat_minor": 5
}