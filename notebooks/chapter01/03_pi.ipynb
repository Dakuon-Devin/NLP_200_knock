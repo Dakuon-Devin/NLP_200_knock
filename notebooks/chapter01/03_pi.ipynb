{
 "cells": [
  {
   "cell_type": "markdown",
   "id": "aa8d19dc",
   "metadata": {},
   "source": [
    "# 03. 円周率\n",
    "\n",
    "\"Now I need a drink, alcoholic of course, after the heavy lectures involving quantum mechanics.\"という文を単語に分解し，各単語の（アルファベットの）文字数を先頭から出現順に並べたリストを作成せよ．"
   ]
  },
  {
   "cell_type": "code",
   "execution_count": null,
   "id": "fcd5804e",
   "metadata": {},
   "outputs": [],
   "source": [
    "# 問題03: 円周率\n",
    "\n",
    "# 与えられた文\n",
    "text = \"Now I need a drink, alcoholic of course, after the heavy lectures involving quantum mechanics.\"\n",
    "\n",
    "# 句読点を除去し、単語に分割\n",
    "import re\n",
    "words = re.sub(r\"[,.]\", \"\", text).split()\n",
    "\n",
    "# 各単語の文字数をリストに格納\n",
    "word_lengths = [len(word) for word in words]\n",
    "\n",
    "# 結果を表示\n",
    "print(f\"元の文: {text}\")\n",
    "print(f\"単語リスト: {words}\")\n",
    "print(f\"各単語の文字数: {word_lengths}\")"
   ]
  },
  {
   "cell_type": "markdown",
   "id": "e5c88255",
   "metadata": {},
   "source": [
    "## 解説\n",
    "\n",
    "この問題では、与えられた文を単語に分解し、各単語の文字数を順番に並べたリストを作成します。\n",
    "\n",
    "1. まず、正規表現を使用してカンマとピリオドを除去します。\n",
    "2. 次に、`split()`メソッドを使用して文を単語に分割します。\n",
    "3. リスト内包表記を使用して、各単語の長さを計算し、新しいリストに格納します。\n",
    "\n",
    "結果として得られるリストは `[3, 1, 4, 1, 5, 9, 2, 6, 5, 3, 5, 8, 9, 7, 9]` となります。\n",
    "\n",
    "興味深いことに、これは円周率（π）の最初の数桁（3.14159265358979）に対応しています。"
   ]
  }
 ],
 "metadata": {},
 "nbformat": 4,
 "nbformat_minor": 5
}