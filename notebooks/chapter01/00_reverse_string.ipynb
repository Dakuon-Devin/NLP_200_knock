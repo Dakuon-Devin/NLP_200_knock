{
 "cells": [
  {
   "cell_type": "markdown",
   "id": "e7a10efd",
   "metadata": {},
   "source": [
    "# 00. 文字列の逆順\n",
    "\n",
    "文字列\"stressed\"の文字を逆に（末尾から先頭に向かって）並べた文字列を得よ．"
   ]
  },
  {
   "cell_type": "code",
   "execution_count": null,
   "id": "3aeb35c5",
   "metadata": {},
   "outputs": [],
   "source": [
    "# 問題00: 文字列の逆順\n",
    "\n",
    "# 与えられた文字列\n",
    "s = \"stressed\"\n",
    "\n",
    "# 文字列を逆順にする\n",
    "reversed_s = s[::-1]\n",
    "\n",
    "# 結果を表示\n",
    "print(f\"元の文字列: {s}\")\n",
    "print(f\"逆順の文字列: {reversed_s}\")"
   ]
  },
  {
   "cell_type": "markdown",
   "id": "f8d6b3a6",
   "metadata": {},
   "source": [
    "## 解説\n",
    "\n",
    "Pythonでは、文字列のスライシング構文 `s[::-1]` を使用して文字列を逆順にすることができます。\n",
    "\n",
    "- `s[start:end:step]` の形式で、`start`から`end`までの範囲を`step`間隔で取得します。\n",
    "- `start`と`end`を省略すると、文字列全体が対象になります。\n",
    "- `step`に`-1`を指定すると、文字列を逆順に走査します。\n",
    "\n",
    "結果として、\"stressed\"の逆順である\"desserts\"が得られました。"
   ]
  }
 ],
 "metadata": {},
 "nbformat": 4,
 "nbformat_minor": 5
}