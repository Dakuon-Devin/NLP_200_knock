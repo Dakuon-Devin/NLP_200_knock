{
 "cells": [
  {
   "cell_type": "markdown",
   "id": "2f89e4f9",
   "metadata": {},
   "source": [
    "# 05. n-gram\n",
    "\n",
    "与えられたシーケンス（文字列やリストなど）からn-gramを作る関数を作成せよ．この関数を用い，\"I am an NLPer\"という文から単語bi-gram，文字bi-gramを得よ．"
   ]
  },
  {
   "cell_type": "code",
   "execution_count": null,
   "id": "d32f6420",
   "metadata": {},
   "outputs": [],
   "source": [
    "# 問題05: n-gram\n",
    "\n",
    "# n-gramを作成する関数\n",
    "def n_gram(sequence, n):\n",
    "    \"\"\"シーケンスからn-gramを作成する関数\n",
    "    \n",
    "    Args:\n",
    "        sequence: 文字列またはリスト\n",
    "        n: n-gramのn\n",
    "        \n",
    "    Returns:\n",
    "        n-gramのリスト\n",
    "    \"\"\"\n",
    "    return [sequence[i:i+n] for i in range(len(sequence) - n + 1)]\n",
    "\n",
    "# 与えられた文\n",
    "text = \"I am an NLPer\"\n",
    "\n",
    "# 単語bi-gram\n",
    "words = text.split()\n",
    "word_bigrams = n_gram(words, 2)\n",
    "\n",
    "# 文字bi-gram\n",
    "char_bigrams = n_gram(text, 2)\n",
    "\n",
    "# 結果を表示\n",
    "print(f\"元の文: {text}\")\n",
    "print(f\"単語リスト: {words}\")\n",
    "print(f\"単語bi-gram: {word_bigrams}\")\n",
    "print(f\"文字bi-gram: {char_bigrams}\")"
   ]
  },
  {
   "cell_type": "markdown",
   "id": "bda7f3ce",
   "metadata": {},
   "source": [
    "## 解説\n",
    "\n",
    "この問題では、n-gramを作成する関数を実装し、それを使用して単語bi-gramと文字bi-gramを生成します。\n",
    "\n",
    "n-gramとは、与えられたシーケンス（文字列やリストなど）から連続するn個の要素を取り出したものです。例えば、文字列\"hello\"の文字bi-gram（n=2）は[\"he\", \"el\", \"ll\", \"lo\"]となります。\n",
    "\n",
    "実装した関数では、リスト内包表記を使用して、シーケンスの各位置からn個の連続する要素を取り出しています。\n",
    "\n",
    "単語bi-gramの場合、まず文を単語に分割し、その単語リストに対してn-gram関数を適用します。結果として、連続する2つの単語のリストが得られます。\n",
    "\n",
    "文字bi-gramの場合、文字列全体に対してn-gram関数を適用します。結果として、連続する2つの文字のリストが得られます。\n",
    "\n",
    "n-gramは自然言語処理において、テキストの特徴抽出や類似度計算などに広く使用されています。"
   ]
  }
 ],
 "metadata": {},
 "nbformat": 4,
 "nbformat_minor": 5
}