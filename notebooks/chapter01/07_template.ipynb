{
 "cells": [
  {
   "cell_type": "markdown",
   "id": "16b89138",
   "metadata": {},
   "source": [
    "# 07. テンプレートによる文生成\n",
    "\n",
    "引数x, y, zを受け取り「x時のyはz」という文字列を返す関数を実装せよ．さらに，x=12, y=\"気温\", z=22.4として，実行結果を確認せよ．"
   ]
  },
  {
   "cell_type": "code",
   "execution_count": null,
   "id": "9d78681c",
   "metadata": {},
   "outputs": [],
   "source": [
    "# 問題07: テンプレートによる文生成\n",
    "\n",
    "# テンプレート文を生成する関数\n",
    "def generate_template(x, y, z):\n",
    "    \"\"\"「x時のyはz」という文字列を返す関数\n",
    "    \n",
    "    Args:\n",
    "        x: 時間\n",
    "        y: 主語\n",
    "        z: 値\n",
    "        \n",
    "    Returns:\n",
    "        テンプレート文字列\n",
    "    \"\"\"\n",
    "    return f\"{x}時の{y}は{z}\"\n",
    "\n",
    "# 関数を実行\n",
    "x, y, z = 12, \"気温\", 22.4\n",
    "result = generate_template(x, y, z)\n",
    "\n",
    "# 結果を表示\n",
    "print(f\"x = {x}, y = {y}, z = {z}\")\n",
    "print(f\"生成された文: {result}\")"
   ]
  },
  {
   "cell_type": "markdown",
   "id": "2bd7f35d",
   "metadata": {},
   "source": [
    "## 解説\n",
    "\n",
    "この問題では、引数を受け取り、それらを組み合わせて特定のテンプレートに従った文字列を生成する関数を実装します。\n",
    "\n",
    "Pythonでは、文字列フォーマットにいくつかの方法があります：\n",
    "\n",
    "1. f-string（Python 3.6以降）: `f\"{x}時の{y}は{z}\"`\n",
    "2. format()メソッド: `\"{}時の{}は{}\".format(x, y, z)`\n",
    "3. %演算子: `\"%s時の%sは%s\" % (x, y, z)`\n",
    "\n",
    "この実装では、最も読みやすく簡潔なf-stringを使用しています。\n",
    "\n",
    "関数は、与えられた引数x, y, zを受け取り、それらを「x時のyはz」というテンプレートに当てはめた文字列を返します。\n",
    "\n",
    "例として、x=12, y=\"気温\", z=22.4を与えると、「12時の気温は22.4」という文字列が生成されます。"
   ]
  }
 ],
 "metadata": {},
 "nbformat": 4,
 "nbformat_minor": 5
}